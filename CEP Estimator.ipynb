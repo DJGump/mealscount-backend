{
 "cells": [
  {
   "cell_type": "code",
   "execution_count": null,
   "metadata": {},
   "outputs": [],
   "source": [
    "# First, parse our California school data from a CSV bundled in the repo\n",
    "import csv,codecs\n",
    "\n",
    "i = lambda x: int(x.replace(',','')) # Quick function to make \"123,123\" into an int 123123\n",
    "cupc_csv_file = 'data/calpads_school_level_1718.csv'\n",
    "schools_data = [\n",
    "    r for r in \n",
    "    csv.DictReader(codecs.open(cupc_csv_file)) \n",
    "    if i(r['total_enrolled']) > 0 # ignore 0 student schools\n",
    "] \n",
    "\n",
    "len(schools_data)"
   ]
  },
  {
   "cell_type": "code",
   "execution_count": null,
   "metadata": {},
   "outputs": [],
   "source": [
    "from strategies.base import CEPSchool, CEPDistrict\n",
    "districts = {}\n",
    "for row in schools_data:\n",
    "    school = CEPSchool(row)\n",
    "    district = CEPDistrict(school.district,school.district_code)\n",
    "    districts.setdefault(school.district,district)\n",
    "    districts[school.district].schools.append(school)\n",
    "districts = list(districts.values())\n",
    "districts.sort()\n",
    "len(districts)"
   ]
  },
  {
   "cell_type": "code",
   "execution_count": null,
   "metadata": {},
   "outputs": [],
   "source": [
    "# The CEPDistrict class represents a School District\n",
    "# it has a list of CEPSchools, and provides some aggregate information\n",
    "\n",
    "# Let's inspect a district\n",
    "san_diego = [d for d in districts if d.name == 'San Diego Unified'][0]\n",
    "san_diego.name,len(san_diego.schools),san_diego.code,san_diego.overall_isp,san_diego.total_enrolled\n",
    "\n",
    "    "
   ]
  },
  {
   "cell_type": "code",
   "execution_count": null,
   "metadata": {},
   "outputs": [],
   "source": [
    "# Strategies are the algorithms we use to group schools\n",
    "# Each one extends BaseStrategy and overrides the \"create_groups\" method\n",
    "# Here we need to define which strategies we want to run\n",
    "# We pass them into parse_districts as the class name, any parameters for it, and a name\n",
    "# this way we can run the sam strategy in multiple configurations\n",
    "\n",
    "from strategies.naive import OneGroupCEPStrategy,OneToOneCEPStrategy\n",
    "\n",
    "# If we create a strategy, and run its create_groups method with the district as the\n",
    "# incoming parameter, then it fills its own \"groups\" member with the resulting CEPGroup objects\n",
    "#strategy = OneGroupCEPStrategy()\n",
    "strategy = OneToOneCEPStrategy()\n",
    "strategy.create_groups(san_diego)\n",
    "g = strategy.groups[0] # our naive strategy put all the schools into one CEPGroup\n",
    "g,g.covered_students"
   ]
  },
  {
   "cell_type": "code",
   "execution_count": null,
   "metadata": {},
   "outputs": [],
   "source": [
    "# We can even see the estimated reimbursement range (based upon configurable paramters)\n",
    "g.est_reimbursement()"
   ]
  },
  {
   "cell_type": "code",
   "execution_count": null,
   "metadata": {},
   "outputs": [],
   "source": []
  }
 ],
 "metadata": {
  "kernelspec": {
   "display_name": "Python 3",
   "language": "python",
   "name": "python3"
  },
  "language_info": {
   "codemirror_mode": {
    "name": "ipython",
    "version": 3
   },
   "file_extension": ".py",
   "mimetype": "text/x-python",
   "name": "python",
   "nbconvert_exporter": "python",
   "pygments_lexer": "ipython3",
   "version": "3.7.3"
  }
 },
 "nbformat": 4,
 "nbformat_minor": 2
}
