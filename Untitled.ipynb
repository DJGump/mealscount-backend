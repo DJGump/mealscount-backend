{
 "cells": [
  {
   "cell_type": "code",
   "execution_count": 319,
   "metadata": {},
   "outputs": [],
   "source": [
    "import pandas as pd"
   ]
  },
  {
   "cell_type": "code",
   "execution_count": 320,
   "metadata": {
    "collapsed": true
   },
   "outputs": [],
   "source": [
    "import numpy as np\n",
    "import itertools as it"
   ]
  },
  {
   "cell_type": "code",
   "execution_count": 321,
   "metadata": {
    "collapsed": true
   },
   "outputs": [],
   "source": [
    "data = pd.read_csv('/Users/jlangley/Downloads/district.csv')"
   ]
  },
  {
   "cell_type": "code",
   "execution_count": 322,
   "metadata": {},
   "outputs": [
    {
     "data": {
      "text/plain": [
       "array([0, 1, 2, 3, 4, 5, 6, 7])"
      ]
     },
     "execution_count": 322,
     "metadata": {},
     "output_type": "execute_result"
    }
   ],
   "source": [
    "data.index.values"
   ]
  },
  {
   "cell_type": "code",
   "execution_count": 324,
   "metadata": {},
   "outputs": [
    {
     "data": {
      "text/html": [
       "<div>\n",
       "<style>\n",
       "    .dataframe thead tr:only-child th {\n",
       "        text-align: right;\n",
       "    }\n",
       "\n",
       "    .dataframe thead th {\n",
       "        text-align: left;\n",
       "    }\n",
       "\n",
       "    .dataframe tbody tr th {\n",
       "        vertical-align: top;\n",
       "    }\n",
       "</style>\n",
       "<table border=\"1\" class=\"dataframe\">\n",
       "  <thead>\n",
       "    <tr style=\"text-align: right;\">\n",
       "      <th></th>\n",
       "      <th>school_name</th>\n",
       "      <th>total_enrollment</th>\n",
       "      <th>isp_students</th>\n",
       "      <th>monthly_lunches_served</th>\n",
       "      <th>monthly_breakfast_served</th>\n",
       "      <th>ind</th>\n",
       "      <th>index_cumsum</th>\n",
       "      <th>group</th>\n",
       "    </tr>\n",
       "  </thead>\n",
       "  <tbody>\n",
       "    <tr>\n",
       "      <th>0</th>\n",
       "      <td>Mira Mesa HS</td>\n",
       "      <td>3400</td>\n",
       "      <td>1800</td>\n",
       "      <td>3000</td>\n",
       "      <td>2000</td>\n",
       "      <td>0</td>\n",
       "      <td>[0]</td>\n",
       "      <td>NaN</td>\n",
       "    </tr>\n",
       "    <tr>\n",
       "      <th>3</th>\n",
       "      <td>Mira Mesa HS4</td>\n",
       "      <td>3400</td>\n",
       "      <td>1300</td>\n",
       "      <td>3000</td>\n",
       "      <td>2000</td>\n",
       "      <td>3</td>\n",
       "      <td>[0, 1, 2, 3]</td>\n",
       "      <td>NaN</td>\n",
       "    </tr>\n",
       "    <tr>\n",
       "      <th>4</th>\n",
       "      <td>Mira Mesa HS5</td>\n",
       "      <td>3400</td>\n",
       "      <td>1400</td>\n",
       "      <td>3000</td>\n",
       "      <td>2000</td>\n",
       "      <td>4</td>\n",
       "      <td>[0, 1, 2, 3, 4]</td>\n",
       "      <td>NaN</td>\n",
       "    </tr>\n",
       "    <tr>\n",
       "      <th>5</th>\n",
       "      <td>Mira Mesa HS6</td>\n",
       "      <td>3400</td>\n",
       "      <td>1500</td>\n",
       "      <td>3000</td>\n",
       "      <td>2000</td>\n",
       "      <td>5</td>\n",
       "      <td>[0, 1, 2, 3, 4, 5]</td>\n",
       "      <td>NaN</td>\n",
       "    </tr>\n",
       "    <tr>\n",
       "      <th>6</th>\n",
       "      <td>Mira Mesa HS7</td>\n",
       "      <td>3400</td>\n",
       "      <td>1600</td>\n",
       "      <td>3000</td>\n",
       "      <td>2000</td>\n",
       "      <td>6</td>\n",
       "      <td>[0, 1, 2, 3, 4, 5, 6]</td>\n",
       "      <td>NaN</td>\n",
       "    </tr>\n",
       "    <tr>\n",
       "      <th>7</th>\n",
       "      <td>Mira Mesa HS8</td>\n",
       "      <td>3400</td>\n",
       "      <td>1700</td>\n",
       "      <td>3000</td>\n",
       "      <td>2000</td>\n",
       "      <td>7</td>\n",
       "      <td>[0, 1, 2, 3, 4, 5, 6, 7]</td>\n",
       "      <td>NaN</td>\n",
       "    </tr>\n",
       "  </tbody>\n",
       "</table>\n",
       "</div>"
      ],
      "text/plain": [
       "     school_name  total_enrollment  isp_students  monthly_lunches_served  \\\n",
       "0   Mira Mesa HS              3400          1800                    3000   \n",
       "3  Mira Mesa HS4              3400          1300                    3000   \n",
       "4  Mira Mesa HS5              3400          1400                    3000   \n",
       "5  Mira Mesa HS6              3400          1500                    3000   \n",
       "6  Mira Mesa HS7              3400          1600                    3000   \n",
       "7  Mira Mesa HS8              3400          1700                    3000   \n",
       "\n",
       "   monthly_breakfast_served  ind              index_cumsum  group  \n",
       "0                      2000    0                       [0]    NaN  \n",
       "3                      2000    3              [0, 1, 2, 3]    NaN  \n",
       "4                      2000    4           [0, 1, 2, 3, 4]    NaN  \n",
       "5                      2000    5        [0, 1, 2, 3, 4, 5]    NaN  \n",
       "6                      2000    6     [0, 1, 2, 3, 4, 5, 6]    NaN  \n",
       "7                      2000    7  [0, 1, 2, 3, 4, 5, 6, 7]    NaN  "
      ]
     },
     "execution_count": 324,
     "metadata": {},
     "output_type": "execute_result"
    }
   ],
   "source": [
    "data2[data2['group'].isnull()]"
   ]
  },
  {
   "cell_type": "code",
   "execution_count": 316,
   "metadata": {},
   "outputs": [],
   "source": [
    "indexes_to_try = [6,7]\n",
    "for itry in it.combinations(indexes_to_try, i):\n",
    "    data2 = data.iloc[list(set([*itry, *indexes_to_try]))]"
   ]
  },
  {
   "cell_type": "code",
   "execution_count": 317,
   "metadata": {},
   "outputs": [],
   "source": [
    "data2.loc[[1,2], 'group'] = 1"
   ]
  },
  {
   "cell_type": "code",
   "execution_count": null,
   "metadata": {
    "collapsed": true
   },
   "outputs": [],
   "source": []
  },
  {
   "cell_type": "code",
   "execution_count": 318,
   "metadata": {},
   "outputs": [
    {
     "data": {
      "text/html": [
       "<div>\n",
       "<style>\n",
       "    .dataframe thead tr:only-child th {\n",
       "        text-align: right;\n",
       "    }\n",
       "\n",
       "    .dataframe thead th {\n",
       "        text-align: left;\n",
       "    }\n",
       "\n",
       "    .dataframe tbody tr th {\n",
       "        vertical-align: top;\n",
       "    }\n",
       "</style>\n",
       "<table border=\"1\" class=\"dataframe\">\n",
       "  <thead>\n",
       "    <tr style=\"text-align: right;\">\n",
       "      <th></th>\n",
       "      <th>school_name</th>\n",
       "      <th>total_enrollment</th>\n",
       "      <th>isp_students</th>\n",
       "      <th>monthly_lunches_served</th>\n",
       "      <th>monthly_breakfast_served</th>\n",
       "      <th>ind</th>\n",
       "      <th>index_cumsum</th>\n",
       "      <th>group</th>\n",
       "    </tr>\n",
       "  </thead>\n",
       "  <tbody>\n",
       "    <tr>\n",
       "      <th>0</th>\n",
       "      <td>Mira Mesa HS</td>\n",
       "      <td>3400</td>\n",
       "      <td>1800</td>\n",
       "      <td>3000</td>\n",
       "      <td>2000</td>\n",
       "      <td>0</td>\n",
       "      <td>[0]</td>\n",
       "      <td>NaN</td>\n",
       "    </tr>\n",
       "    <tr>\n",
       "      <th>1</th>\n",
       "      <td>Mira Mesa HS2</td>\n",
       "      <td>3400</td>\n",
       "      <td>1100</td>\n",
       "      <td>3000</td>\n",
       "      <td>2000</td>\n",
       "      <td>1</td>\n",
       "      <td>[0, 1]</td>\n",
       "      <td>1.0</td>\n",
       "    </tr>\n",
       "    <tr>\n",
       "      <th>2</th>\n",
       "      <td>Mira Mesa HS3</td>\n",
       "      <td>3400</td>\n",
       "      <td>1200</td>\n",
       "      <td>3000</td>\n",
       "      <td>2000</td>\n",
       "      <td>2</td>\n",
       "      <td>[0, 1, 2]</td>\n",
       "      <td>1.0</td>\n",
       "    </tr>\n",
       "    <tr>\n",
       "      <th>3</th>\n",
       "      <td>Mira Mesa HS4</td>\n",
       "      <td>3400</td>\n",
       "      <td>1300</td>\n",
       "      <td>3000</td>\n",
       "      <td>2000</td>\n",
       "      <td>3</td>\n",
       "      <td>[0, 1, 2, 3]</td>\n",
       "      <td>NaN</td>\n",
       "    </tr>\n",
       "    <tr>\n",
       "      <th>4</th>\n",
       "      <td>Mira Mesa HS5</td>\n",
       "      <td>3400</td>\n",
       "      <td>1400</td>\n",
       "      <td>3000</td>\n",
       "      <td>2000</td>\n",
       "      <td>4</td>\n",
       "      <td>[0, 1, 2, 3, 4]</td>\n",
       "      <td>NaN</td>\n",
       "    </tr>\n",
       "  </tbody>\n",
       "</table>\n",
       "</div>"
      ],
      "text/plain": [
       "     school_name  total_enrollment  isp_students  monthly_lunches_served  \\\n",
       "0   Mira Mesa HS              3400          1800                    3000   \n",
       "1  Mira Mesa HS2              3400          1100                    3000   \n",
       "2  Mira Mesa HS3              3400          1200                    3000   \n",
       "3  Mira Mesa HS4              3400          1300                    3000   \n",
       "4  Mira Mesa HS5              3400          1400                    3000   \n",
       "\n",
       "   monthly_breakfast_served  ind     index_cumsum  group  \n",
       "0                      2000    0              [0]    NaN  \n",
       "1                      2000    1           [0, 1]    1.0  \n",
       "2                      2000    2        [0, 1, 2]    1.0  \n",
       "3                      2000    3     [0, 1, 2, 3]    NaN  \n",
       "4                      2000    4  [0, 1, 2, 3, 4]    NaN  "
      ]
     },
     "execution_count": 318,
     "metadata": {},
     "output_type": "execute_result"
    }
   ],
   "source": [
    "data2.head()"
   ]
  },
  {
   "cell_type": "code",
   "execution_count": 261,
   "metadata": {},
   "outputs": [
    {
     "data": {
      "text/html": [
       "<div>\n",
       "<style>\n",
       "    .dataframe thead tr:only-child th {\n",
       "        text-align: right;\n",
       "    }\n",
       "\n",
       "    .dataframe thead th {\n",
       "        text-align: left;\n",
       "    }\n",
       "\n",
       "    .dataframe tbody tr th {\n",
       "        vertical-align: top;\n",
       "    }\n",
       "</style>\n",
       "<table border=\"1\" class=\"dataframe\">\n",
       "  <thead>\n",
       "    <tr style=\"text-align: right;\">\n",
       "      <th></th>\n",
       "      <th>school_name</th>\n",
       "      <th>total_enrollment</th>\n",
       "      <th>isp_students</th>\n",
       "      <th>monthly_lunches_served</th>\n",
       "      <th>monthly_breakfast_served</th>\n",
       "      <th>ind</th>\n",
       "      <th>index_cumsum</th>\n",
       "      <th>group</th>\n",
       "      <th>isp_percent</th>\n",
       "    </tr>\n",
       "  </thead>\n",
       "  <tbody>\n",
       "    <tr>\n",
       "      <th>0</th>\n",
       "      <td>Mira Mesa HS</td>\n",
       "      <td>3400</td>\n",
       "      <td>1800</td>\n",
       "      <td>3000</td>\n",
       "      <td>2000</td>\n",
       "      <td>0</td>\n",
       "      <td>[0]</td>\n",
       "      <td>NaN</td>\n",
       "      <td>0.529412</td>\n",
       "    </tr>\n",
       "    <tr>\n",
       "      <th>3</th>\n",
       "      <td>Mira Mesa HSMira Mesa HS4</td>\n",
       "      <td>6800</td>\n",
       "      <td>3100</td>\n",
       "      <td>6000</td>\n",
       "      <td>4000</td>\n",
       "      <td>3</td>\n",
       "      <td>[0, 0, 1, 2, 3]</td>\n",
       "      <td>NaN</td>\n",
       "      <td>0.455882</td>\n",
       "    </tr>\n",
       "    <tr>\n",
       "      <th>7</th>\n",
       "      <td>Mira Mesa HSMira Mesa HS4Mira Mesa HS5Mira Mes...</td>\n",
       "      <td>20400</td>\n",
       "      <td>9300</td>\n",
       "      <td>18000</td>\n",
       "      <td>12000</td>\n",
       "      <td>25</td>\n",
       "      <td>[0, 0, 1, 2, 3, 0, 1, 2, 3, 4, 0, 1, 2, 3, 4, ...</td>\n",
       "      <td>NaN</td>\n",
       "      <td>0.455882</td>\n",
       "    </tr>\n",
       "    <tr>\n",
       "      <th>6</th>\n",
       "      <td>Mira Mesa HSMira Mesa HS4Mira Mesa HS5Mira Mes...</td>\n",
       "      <td>17000</td>\n",
       "      <td>7600</td>\n",
       "      <td>15000</td>\n",
       "      <td>10000</td>\n",
       "      <td>18</td>\n",
       "      <td>[0, 0, 1, 2, 3, 0, 1, 2, 3, 4, 0, 1, 2, 3, 4, ...</td>\n",
       "      <td>NaN</td>\n",
       "      <td>0.447059</td>\n",
       "    </tr>\n",
       "    <tr>\n",
       "      <th>4</th>\n",
       "      <td>Mira Mesa HSMira Mesa HS4Mira Mesa HS5</td>\n",
       "      <td>10200</td>\n",
       "      <td>4500</td>\n",
       "      <td>9000</td>\n",
       "      <td>6000</td>\n",
       "      <td>7</td>\n",
       "      <td>[0, 0, 1, 2, 3, 0, 1, 2, 3, 4]</td>\n",
       "      <td>NaN</td>\n",
       "      <td>0.441176</td>\n",
       "    </tr>\n",
       "    <tr>\n",
       "      <th>5</th>\n",
       "      <td>Mira Mesa HSMira Mesa HS4Mira Mesa HS5Mira Mes...</td>\n",
       "      <td>13600</td>\n",
       "      <td>6000</td>\n",
       "      <td>12000</td>\n",
       "      <td>8000</td>\n",
       "      <td>12</td>\n",
       "      <td>[0, 0, 1, 2, 3, 0, 1, 2, 3, 4, 0, 1, 2, 3, 4, 5]</td>\n",
       "      <td>NaN</td>\n",
       "      <td>0.441176</td>\n",
       "    </tr>\n",
       "  </tbody>\n",
       "</table>\n",
       "</div>"
      ],
      "text/plain": [
       "                                         school_name total_enrollment  \\\n",
       "0                                       Mira Mesa HS             3400   \n",
       "3                          Mira Mesa HSMira Mesa HS4             6800   \n",
       "7  Mira Mesa HSMira Mesa HS4Mira Mesa HS5Mira Mes...            20400   \n",
       "6  Mira Mesa HSMira Mesa HS4Mira Mesa HS5Mira Mes...            17000   \n",
       "4             Mira Mesa HSMira Mesa HS4Mira Mesa HS5            10200   \n",
       "5  Mira Mesa HSMira Mesa HS4Mira Mesa HS5Mira Mes...            13600   \n",
       "\n",
       "  isp_students monthly_lunches_served monthly_breakfast_served ind  \\\n",
       "0         1800                   3000                     2000   0   \n",
       "3         3100                   6000                     4000   3   \n",
       "7         9300                  18000                    12000  25   \n",
       "6         7600                  15000                    10000  18   \n",
       "4         4500                   9000                     6000   7   \n",
       "5         6000                  12000                     8000  12   \n",
       "\n",
       "                                        index_cumsum group isp_percent  \n",
       "0                                                [0]   NaN    0.529412  \n",
       "3                                    [0, 0, 1, 2, 3]   NaN    0.455882  \n",
       "7  [0, 0, 1, 2, 3, 0, 1, 2, 3, 4, 0, 1, 2, 3, 4, ...   NaN    0.455882  \n",
       "6  [0, 0, 1, 2, 3, 0, 1, 2, 3, 4, 0, 1, 2, 3, 4, ...   NaN    0.447059  \n",
       "4                     [0, 0, 1, 2, 3, 0, 1, 2, 3, 4]   NaN    0.441176  \n",
       "5   [0, 0, 1, 2, 3, 0, 1, 2, 3, 4, 0, 1, 2, 3, 4, 5]   NaN    0.441176  "
      ]
     },
     "execution_count": 261,
     "metadata": {},
     "output_type": "execute_result"
    }
   ],
   "source": [
    "data2_cumsum= data[data.group.isnull()].cumsum()\n",
    "data2_cumsum['isp_percent'] = data2_cumsum.isp_students / data2_cumsum.total_enrollment\n",
    "data2_cumsum.sort_values('isp_percent', ascending=False, inplace=True)\n",
    "data2_cumsum"
   ]
  },
  {
   "cell_type": "code",
   "execution_count": 262,
   "metadata": {},
   "outputs": [
    {
     "data": {
      "text/html": [
       "<div>\n",
       "<style>\n",
       "    .dataframe thead tr:only-child th {\n",
       "        text-align: right;\n",
       "    }\n",
       "\n",
       "    .dataframe thead th {\n",
       "        text-align: left;\n",
       "    }\n",
       "\n",
       "    .dataframe tbody tr th {\n",
       "        vertical-align: top;\n",
       "    }\n",
       "</style>\n",
       "<table border=\"1\" class=\"dataframe\">\n",
       "  <thead>\n",
       "    <tr style=\"text-align: right;\">\n",
       "      <th></th>\n",
       "      <th>school_name</th>\n",
       "      <th>total_enrollment</th>\n",
       "      <th>isp_students</th>\n",
       "      <th>monthly_lunches_served</th>\n",
       "      <th>monthly_breakfast_served</th>\n",
       "      <th>ind</th>\n",
       "      <th>group</th>\n",
       "      <th>isp_percent</th>\n",
       "    </tr>\n",
       "  </thead>\n",
       "  <tbody>\n",
       "    <tr>\n",
       "      <th>0</th>\n",
       "      <td>Mira Mesa HS</td>\n",
       "      <td>3400</td>\n",
       "      <td>1800</td>\n",
       "      <td>3000</td>\n",
       "      <td>2000</td>\n",
       "      <td>0</td>\n",
       "      <td>NaN</td>\n",
       "      <td>0.529412</td>\n",
       "    </tr>\n",
       "    <tr>\n",
       "      <th>3</th>\n",
       "      <td>Mira Mesa HSMira Mesa HS4</td>\n",
       "      <td>6800</td>\n",
       "      <td>3100</td>\n",
       "      <td>6000</td>\n",
       "      <td>4000</td>\n",
       "      <td>3</td>\n",
       "      <td>NaN</td>\n",
       "      <td>0.455882</td>\n",
       "    </tr>\n",
       "    <tr>\n",
       "      <th>7</th>\n",
       "      <td>Mira Mesa HSMira Mesa HS4Mira Mesa HS5Mira Mes...</td>\n",
       "      <td>20400</td>\n",
       "      <td>9300</td>\n",
       "      <td>18000</td>\n",
       "      <td>12000</td>\n",
       "      <td>25</td>\n",
       "      <td>NaN</td>\n",
       "      <td>0.455882</td>\n",
       "    </tr>\n",
       "    <tr>\n",
       "      <th>6</th>\n",
       "      <td>Mira Mesa HSMira Mesa HS4Mira Mesa HS5Mira Mes...</td>\n",
       "      <td>17000</td>\n",
       "      <td>7600</td>\n",
       "      <td>15000</td>\n",
       "      <td>10000</td>\n",
       "      <td>18</td>\n",
       "      <td>NaN</td>\n",
       "      <td>0.447059</td>\n",
       "    </tr>\n",
       "    <tr>\n",
       "      <th>4</th>\n",
       "      <td>Mira Mesa HSMira Mesa HS4Mira Mesa HS5</td>\n",
       "      <td>10200</td>\n",
       "      <td>4500</td>\n",
       "      <td>9000</td>\n",
       "      <td>6000</td>\n",
       "      <td>7</td>\n",
       "      <td>NaN</td>\n",
       "      <td>0.441176</td>\n",
       "    </tr>\n",
       "    <tr>\n",
       "      <th>5</th>\n",
       "      <td>Mira Mesa HSMira Mesa HS4Mira Mesa HS5Mira Mes...</td>\n",
       "      <td>13600</td>\n",
       "      <td>6000</td>\n",
       "      <td>12000</td>\n",
       "      <td>8000</td>\n",
       "      <td>12</td>\n",
       "      <td>NaN</td>\n",
       "      <td>0.441176</td>\n",
       "    </tr>\n",
       "  </tbody>\n",
       "</table>\n",
       "</div>"
      ],
      "text/plain": [
       "                                         school_name total_enrollment  \\\n",
       "0                                       Mira Mesa HS             3400   \n",
       "3                          Mira Mesa HSMira Mesa HS4             6800   \n",
       "7  Mira Mesa HSMira Mesa HS4Mira Mesa HS5Mira Mes...            20400   \n",
       "6  Mira Mesa HSMira Mesa HS4Mira Mesa HS5Mira Mes...            17000   \n",
       "4             Mira Mesa HSMira Mesa HS4Mira Mesa HS5            10200   \n",
       "5  Mira Mesa HSMira Mesa HS4Mira Mesa HS5Mira Mes...            13600   \n",
       "\n",
       "  isp_students monthly_lunches_served monthly_breakfast_served ind group  \\\n",
       "0         1800                   3000                     2000   0   NaN   \n",
       "3         3100                   6000                     4000   3   NaN   \n",
       "7         9300                  18000                    12000  25   NaN   \n",
       "6         7600                  15000                    10000  18   NaN   \n",
       "4         4500                   9000                     6000   7   NaN   \n",
       "5         6000                  12000                     8000  12   NaN   \n",
       "\n",
       "  isp_percent  \n",
       "0    0.529412  \n",
       "3    0.455882  \n",
       "7    0.455882  \n",
       "6    0.447059  \n",
       "4    0.441176  \n",
       "5    0.441176  "
      ]
     },
     "execution_count": 262,
     "metadata": {},
     "output_type": "execute_result"
    }
   ],
   "source": [
    "data2_cumsum.drop('index_cumsum', axis=1)"
   ]
  },
  {
   "cell_type": "code",
   "execution_count": 306,
   "metadata": {},
   "outputs": [],
   "source": [
    "data2_cumsum.reset_index(inplace=True)\n",
    "data2_cumsum.set_index(['group','school_name', data2_cumsum.index], inplace=True)"
   ]
  },
  {
   "cell_type": "code",
   "execution_count": 307,
   "metadata": {},
   "outputs": [
    {
     "data": {
      "text/plain": [
       "MultiIndex(levels=[[], ['Mira Mesa HS', 'Mira Mesa HSMira Mesa HS4', 'Mira Mesa HSMira Mesa HS4Mira Mesa HS5', 'Mira Mesa HSMira Mesa HS4Mira Mesa HS5Mira Mesa HS6', 'Mira Mesa HSMira Mesa HS4Mira Mesa HS5Mira Mesa HS6Mira Mesa HS7', 'Mira Mesa HSMira Mesa HS4Mira Mesa HS5Mira Mesa HS6Mira Mesa HS7Mira Mesa HS8'], [0, 1, 2, 3, 4, 5]],\n",
       "           labels=[[-1, -1, -1, -1, -1, -1], [0, 1, 5, 4, 2, 3], [0, 1, 2, 3, 4, 5]],\n",
       "           names=['group', 'school_name', None])"
      ]
     },
     "execution_count": 307,
     "metadata": {},
     "output_type": "execute_result"
    }
   ],
   "source": [
    "data2_cumsum.loc[(data2_cumsum.index.get_level_values('group').isnull())].index"
   ]
  },
  {
   "cell_type": "code",
   "execution_count": 193,
   "metadata": {},
   "outputs": [],
   "source": [
    "data2.drop(['group'],axis=1, inplace=True)"
   ]
  },
  {
   "cell_type": "code",
   "execution_count": 194,
   "metadata": {},
   "outputs": [
    {
     "data": {
      "text/html": [
       "<div>\n",
       "<style>\n",
       "    .dataframe thead tr:only-child th {\n",
       "        text-align: right;\n",
       "    }\n",
       "\n",
       "    .dataframe thead th {\n",
       "        text-align: left;\n",
       "    }\n",
       "\n",
       "    .dataframe tbody tr th {\n",
       "        vertical-align: top;\n",
       "    }\n",
       "</style>\n",
       "<table border=\"1\" class=\"dataframe\">\n",
       "  <thead>\n",
       "    <tr style=\"text-align: right;\">\n",
       "      <th></th>\n",
       "      <th>school_name</th>\n",
       "      <th>total_enrollment</th>\n",
       "      <th>isp_students</th>\n",
       "      <th>monthly_lunches_served</th>\n",
       "      <th>monthly_breakfast_served</th>\n",
       "      <th>ind</th>\n",
       "      <th>index_cumsum</th>\n",
       "    </tr>\n",
       "  </thead>\n",
       "  <tbody>\n",
       "    <tr>\n",
       "      <th>0</th>\n",
       "      <td>Mira Mesa HS</td>\n",
       "      <td>3400</td>\n",
       "      <td>1800</td>\n",
       "      <td>3000</td>\n",
       "      <td>2000</td>\n",
       "      <td>0</td>\n",
       "      <td>[0]</td>\n",
       "    </tr>\n",
       "    <tr>\n",
       "      <th>1</th>\n",
       "      <td>Mira Mesa HS2</td>\n",
       "      <td>3400</td>\n",
       "      <td>1100</td>\n",
       "      <td>3000</td>\n",
       "      <td>2000</td>\n",
       "      <td>1</td>\n",
       "      <td>[0, 1]</td>\n",
       "    </tr>\n",
       "    <tr>\n",
       "      <th>2</th>\n",
       "      <td>Mira Mesa HS3</td>\n",
       "      <td>3400</td>\n",
       "      <td>1200</td>\n",
       "      <td>3000</td>\n",
       "      <td>2000</td>\n",
       "      <td>2</td>\n",
       "      <td>[0, 1, 2]</td>\n",
       "    </tr>\n",
       "    <tr>\n",
       "      <th>3</th>\n",
       "      <td>Mira Mesa HS4</td>\n",
       "      <td>3400</td>\n",
       "      <td>1300</td>\n",
       "      <td>3000</td>\n",
       "      <td>2000</td>\n",
       "      <td>3</td>\n",
       "      <td>[0, 1, 2, 3]</td>\n",
       "    </tr>\n",
       "    <tr>\n",
       "      <th>4</th>\n",
       "      <td>Mira Mesa HS5</td>\n",
       "      <td>3400</td>\n",
       "      <td>1400</td>\n",
       "      <td>3000</td>\n",
       "      <td>2000</td>\n",
       "      <td>4</td>\n",
       "      <td>[0, 1, 2, 3, 4]</td>\n",
       "    </tr>\n",
       "  </tbody>\n",
       "</table>\n",
       "</div>"
      ],
      "text/plain": [
       "     school_name  total_enrollment  isp_students  monthly_lunches_served  \\\n",
       "0   Mira Mesa HS              3400          1800                    3000   \n",
       "1  Mira Mesa HS2              3400          1100                    3000   \n",
       "2  Mira Mesa HS3              3400          1200                    3000   \n",
       "3  Mira Mesa HS4              3400          1300                    3000   \n",
       "4  Mira Mesa HS5              3400          1400                    3000   \n",
       "\n",
       "   monthly_breakfast_served  ind     index_cumsum  \n",
       "0                      2000    0              [0]  \n",
       "1                      2000    1           [0, 1]  \n",
       "2                      2000    2        [0, 1, 2]  \n",
       "3                      2000    3     [0, 1, 2, 3]  \n",
       "4                      2000    4  [0, 1, 2, 3, 4]  "
      ]
     },
     "execution_count": 194,
     "metadata": {},
     "output_type": "execute_result"
    }
   ],
   "source": [
    "data2.head()"
   ]
  },
  {
   "cell_type": "code",
   "execution_count": 60,
   "metadata": {
    "collapsed": true
   },
   "outputs": [],
   "source": [
    "from sklearn.cluster import KMeans"
   ]
  },
  {
   "cell_type": "code",
   "execution_count": 61,
   "metadata": {
    "collapsed": true
   },
   "outputs": [],
   "source": [
    "data['idx'] = data.index.values\n",
    "data['isp_percent'] = data.isp_students/ data.total_enrollment\n",
    "the_rest = set(data.index.values)-set([1,2])\n",
    "km = KMeans(n_clusters=3, random_state=0).fit(data[['idx', 'isp_percent']])"
   ]
  },
  {
   "cell_type": "code",
   "execution_count": 62,
   "metadata": {},
   "outputs": [
    {
     "data": {
      "text/plain": [
       "array([2, 2, 1, 1, 1, 0, 0, 0], dtype=int32)"
      ]
     },
     "execution_count": 62,
     "metadata": {},
     "output_type": "execute_result"
    }
   ],
   "source": [
    "km.labels_"
   ]
  },
  {
   "cell_type": "code",
   "execution_count": 70,
   "metadata": {},
   "outputs": [
    {
     "data": {
      "text/plain": [
       "array([0, 1, 2, 3, 4, 5, 6, 7])"
      ]
     },
     "execution_count": 70,
     "metadata": {},
     "output_type": "execute_result"
    }
   ],
   "source": [
    "data.idx.values"
   ]
  },
  {
   "cell_type": "markdown",
   "metadata": {},
   "source": [
    "I need to put in 2 or more combinatoric blocks.\n",
    "One is at the 100% level\n",
    "after a isp_sort you will get a difference between 62.5 and the currrent level.\n",
    "One is filling an existing void with a small size school or two.  Using calculations of extending the trend line.\n",
    "do the same for existing group - 1 Schools from the bottom 2\n",
    "do the same for existing group - 2 Schools\n",
    "keep a list of unique sets possibilities\n",
    "Only keep 1 possibility\n",
    "This will give the 100% group\n",
    "\n",
    "The last is is above 30% taking the remaining schools sorting them into ip_cumsum_sort and recalculating and seeing which schools can stay while being responsible to the schools who need it\n"
   ]
  },
  {
   "cell_type": "code",
   "execution_count": null,
   "metadata": {
    "collapsed": true
   },
   "outputs": [],
   "source": [
    "val = 0#get with rough_100_percent cumsum.tail(1)\n",
    "for combos in it.combinations(not_rough_100_percent_indexes):\n",
    "    df = concat([val,data.loc[combos]])\n",
    "    df\n",
    "    \n",
    "    #add that to "
   ]
  },
  {
   "cell_type": "code",
   "execution_count": 85,
   "metadata": {},
   "outputs": [],
   "source": [
    "indexes_to_try = data.idx.values\n",
    "data2 = 0\n",
    "possibilities = pd.DataFrame(columns = [''])\n"
   ]
  },
  {
   "cell_type": "code",
   "execution_count": 87,
   "metadata": {},
   "outputs": [],
   "source": [
    "def brute_force(indexes_to_try):\n",
    "    rv = []\n",
    "    for i in range(7):\n",
    "        for itry in it.combinations(indexes_to_try, i):\n",
    "            data2 = data.loc([*itry, *indexes_to_try])\n",
    "            data2 = isp_sort(data2)\n",
    "            data2.cumsum(inplace=True)\n",
    "            data2.isp_percent = data2.isp_people / data2.total_enrollment\n",
    "            if data2.isp_percent.tail(1).values > config.max_cep_thold_pct():\n",
    "                rv.append(data2.indexes.values)\n",
    "    return rv\n"
   ]
  },
  {
   "cell_type": "code",
   "execution_count": 89,
   "metadata": {},
   "outputs": [],
   "source": [
    "def best_of(indexes_to_try):\n",
    "    try_em = brute_force(indexes_to_try)\n",
    "    values = [data.loc[x].total_enrollment.sum() for x in try_em]\n",
    "    return try_em[max(xrange(len(values), key=values.__getitem__))]\n"
   ]
  },
  {
   "cell_type": "code",
   "execution_count": null,
   "metadata": {
    "collapsed": true
   },
   "outputs": [],
   "source": []
  }
 ],
 "metadata": {
  "kernelspec": {
   "display_name": "Python 3",
   "language": "python",
   "name": "python3"
  },
  "language_info": {
   "codemirror_mode": {
    "name": "ipython",
    "version": 3
   },
   "file_extension": ".py",
   "mimetype": "text/x-python",
   "name": "python",
   "nbconvert_exporter": "python",
   "pygments_lexer": "ipython3",
   "version": "3.6.2"
  }
 },
 "nbformat": 4,
 "nbformat_minor": 2
}
