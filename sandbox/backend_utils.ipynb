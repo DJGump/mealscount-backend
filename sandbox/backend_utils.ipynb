{
 "cells": [
  {
   "cell_type": "markdown",
   "metadata": {},
   "source": [
    "## Meals Count Backend Utilities  \n",
    "  \n",
    "This notebook contains Python functionality to be incorporated into modules part of the [MealsCount](https://github.com/opensandiego/mealscount-backend) backend. **MealsCount** is an open-source project currently underway at [**OpenSanDiego**](https://opensandiego.org/), a [Code for America](https://www.codeforamerica.org/) brigade.  \n",
    "  \n",
    "**Note**: See [**[1]**](backend_utils_test.ipynb) for a detailed explanation of the core functionality, including intermediate outputs based on sample test data.   "
   ]
  },
  {
   "cell_type": "code",
   "execution_count": 2,
   "metadata": {
    "collapsed": true
   },
   "outputs": [],
   "source": [
    "import sys\n",
    "import os\n",
    "import pandas as pd\n",
    "import numpy as np\n",
    "\n",
    "from abc import ABC, abstractmethod"
   ]
  },
  {
   "cell_type": "code",
   "execution_count": 3,
   "metadata": {},
   "outputs": [],
   "source": [
    "CWD = os.getcwd()\n",
    "\n",
    "DATADIR = \"data\"\n",
    "DATAFILE = \"calpads_sample_data.xlsx\""
   ]
  },
  {
   "cell_type": "code",
   "execution_count": 4,
   "metadata": {
    "collapsed": true
   },
   "outputs": [],
   "source": [
    "class mcSchoolDistInput(ABC):\n",
    "    \"\"\"\n",
    "    Base class for school district input. \n",
    "    \"\"\"\n",
    "    df = pd.DataFrame()\n",
    "    \n",
    "    def __init__(self):                \n",
    "        pass\n",
    "    \n",
    "    @abstractmethod\n",
    "    def to_frame(self):\n",
    "        pass"
   ]
  },
  {
   "cell_type": "code",
   "execution_count": 5,
   "metadata": {
    "collapsed": true
   },
   "outputs": [],
   "source": [
    "def parseXL(self,xlfile):\n",
    "    \n",
    "    try:\n",
    "        xl = pd.ExcelFile(xlfile)                \n",
    "        tmpdf = xl.parse(xl.sheet_names[0])       \n",
    "        \n",
    "        #TODO\n",
    "        \n",
    "        self.df = tmpdf\n",
    "        \n",
    "    except Exception as e:\n",
    "        raise e"
   ]
  },
  {
   "cell_type": "code",
   "execution_count": 6,
   "metadata": {
    "collapsed": true
   },
   "outputs": [],
   "source": [
    "class mcXLSchoolDistInput(mcSchoolDistInput):\n",
    "    \"\"\"\n",
    "    Implementation for MealsCount Excel format school district input. Expects input \n",
    "    to be a file stored on the backend.\n",
    "    \"\"\"        \n",
    "    \n",
    "    def __init__(self, datafile):        \n",
    "        mcSchoolDistInput.__init__(self)\n",
    "        self.__datafile = datafile\n",
    "        try:\n",
    "            self.__parse(self.__datafile)\n",
    "        except Exception as e:\n",
    "            raise e\n",
    "    \n",
    "    def to_frame(self):\n",
    "        return self.df\n",
    "    \n",
    "    __parse = parseXL           \n",
    "        "
   ]
  },
  {
   "cell_type": "code",
   "execution_count": 7,
   "metadata": {
    "collapsed": true
   },
   "outputs": [],
   "source": [
    "data_in = mcXLSchoolDistInput(os.path.join(DATADIR,DATAFILE))\n",
    "df = data_in.to_frame()\n",
    "#df"
   ]
  },
  {
   "cell_type": "markdown",
   "metadata": {},
   "source": [
    "### TODO  \n",
    "  \n",
    "* Add ParseXL functionality  \n",
    "* Add API to get meta-data as a dictionary  "
   ]
  }
 ],
 "metadata": {
  "kernelspec": {
   "display_name": "Python 3",
   "language": "python",
   "name": "python3"
  },
  "language_info": {
   "codemirror_mode": {
    "name": "ipython",
    "version": 3
   },
   "file_extension": ".py",
   "mimetype": "text/x-python",
   "name": "python",
   "nbconvert_exporter": "python",
   "pygments_lexer": "ipython3",
   "version": "3.6.3"
  }
 },
 "nbformat": 4,
 "nbformat_minor": 2
}
