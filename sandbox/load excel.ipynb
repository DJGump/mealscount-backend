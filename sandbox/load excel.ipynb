{
 "cells": [
  {
   "cell_type": "code",
   "execution_count": 1,
   "metadata": {
    "collapsed": true
   },
   "outputs": [],
   "source": [
    "url = 'https://www.cde.ca.gov/ds/sd/sd/documents/frpm1718.xlsx'"
   ]
  },
  {
   "cell_type": "code",
   "execution_count": 10,
   "metadata": {
    "collapsed": true
   },
   "outputs": [],
   "source": [
    "import requests as req\n",
    "import pandas as pd\n",
    "import numpy as np\n",
    "from pathlib import Path"
   ]
  },
  {
   "cell_type": "code",
   "execution_count": 11,
   "metadata": {
    "collapsed": true
   },
   "outputs": [],
   "source": [
    "\n",
    "pd.set_option('display.max_columns', 999)"
   ]
  },
  {
   "cell_type": "code",
   "execution_count": 18,
   "metadata": {
    "collapsed": true
   },
   "outputs": [],
   "source": [
    "file_name = url.split(\".\")[-2].split(\"/\")[-1] + '.xlsx'"
   ]
  },
  {
   "cell_type": "code",
   "execution_count": 29,
   "metadata": {},
   "outputs": [
    {
     "name": "stdout",
     "output_type": "stream",
     "text": [
      "file prev. downloaded\n"
     ]
    }
   ],
   "source": [
    "if Path(file_name).exists():\n",
    "    print('file prev. downloaded')\n",
    "    print('using local')\n",
    "else:\n",
    "    r = req.get(url, allow_redirects=True)\n",
    "    open(file_name, 'wb').write(r.content)"
   ]
  },
  {
   "cell_type": "code",
   "execution_count": null,
   "metadata": {
    "collapsed": true
   },
   "outputs": [],
   "source": [
    "pub_schools = pd.read_excel('pubschls.xlsx')"
   ]
  },
  {
   "cell_type": "code",
   "execution_count": 35,
   "metadata": {
    "collapsed": true
   },
   "outputs": [],
   "source": [
    "df_raw = pd.read_excel(file_name, sheetname = 'FRPM School-Level Data ', header = 1, usecols = [2,3,5,6,17,20,21])"
   ]
  },
  {
   "cell_type": "code",
   "execution_count": 37,
   "metadata": {
    "collapsed": true
   },
   "outputs": [],
   "source": [
    "df.columns = ['dist_code', 'school_code','dist_name','school_name','enrollment_k_12','frpm_cnt_k_12','perc_elg_frpm_k_12']"
   ]
  },
  {
   "cell_type": "code",
   "execution_count": 39,
   "metadata": {},
   "outputs": [
    {
     "data": {
      "text/html": [
       "<div>\n",
       "<style>\n",
       "    .dataframe thead tr:only-child th {\n",
       "        text-align: right;\n",
       "    }\n",
       "\n",
       "    .dataframe thead th {\n",
       "        text-align: left;\n",
       "    }\n",
       "\n",
       "    .dataframe tbody tr th {\n",
       "        vertical-align: top;\n",
       "    }\n",
       "</style>\n",
       "<table border=\"1\" class=\"dataframe\">\n",
       "  <thead>\n",
       "    <tr style=\"text-align: right;\">\n",
       "      <th></th>\n",
       "      <th>dist_code</th>\n",
       "      <th>school_code</th>\n",
       "      <th>dist_name</th>\n",
       "      <th>school_name</th>\n",
       "      <th>enrollment_k_12</th>\n",
       "      <th>frpm_cnt_k_12</th>\n",
       "      <th>perc_elg_frpm_k_12</th>\n",
       "    </tr>\n",
       "  </thead>\n",
       "  <tbody>\n",
       "    <tr>\n",
       "      <th>0</th>\n",
       "      <td>10017</td>\n",
       "      <td>112607</td>\n",
       "      <td>Alameda County Office of Education</td>\n",
       "      <td>Envision Academy for Arts &amp; Technology</td>\n",
       "      <td>413</td>\n",
       "      <td>308</td>\n",
       "      <td>0.745763</td>\n",
       "    </tr>\n",
       "    <tr>\n",
       "      <th>1</th>\n",
       "      <td>10017</td>\n",
       "      <td>123968</td>\n",
       "      <td>Alameda County Office of Education</td>\n",
       "      <td>Community School for Creative Education</td>\n",
       "      <td>252</td>\n",
       "      <td>180</td>\n",
       "      <td>0.714286</td>\n",
       "    </tr>\n",
       "    <tr>\n",
       "      <th>2</th>\n",
       "      <td>10017</td>\n",
       "      <td>124172</td>\n",
       "      <td>Alameda County Office of Education</td>\n",
       "      <td>Yu Ming Charter</td>\n",
       "      <td>387</td>\n",
       "      <td>53</td>\n",
       "      <td>0.136951</td>\n",
       "    </tr>\n",
       "    <tr>\n",
       "      <th>3</th>\n",
       "      <td>10017</td>\n",
       "      <td>125567</td>\n",
       "      <td>Alameda County Office of Education</td>\n",
       "      <td>Urban Montessori Charter</td>\n",
       "      <td>448</td>\n",
       "      <td>127</td>\n",
       "      <td>0.283482</td>\n",
       "    </tr>\n",
       "    <tr>\n",
       "      <th>4</th>\n",
       "      <td>10017</td>\n",
       "      <td>130401</td>\n",
       "      <td>Alameda County Office of Education</td>\n",
       "      <td>Alameda County Juvenile Hall/Court</td>\n",
       "      <td>77</td>\n",
       "      <td>77</td>\n",
       "      <td>1.000000</td>\n",
       "    </tr>\n",
       "  </tbody>\n",
       "</table>\n",
       "</div>"
      ],
      "text/plain": [
       "   dist_code  school_code                           dist_name  \\\n",
       "0      10017       112607  Alameda County Office of Education   \n",
       "1      10017       123968  Alameda County Office of Education   \n",
       "2      10017       124172  Alameda County Office of Education   \n",
       "3      10017       125567  Alameda County Office of Education   \n",
       "4      10017       130401  Alameda County Office of Education   \n",
       "\n",
       "                               school_name  enrollment_k_12  frpm_cnt_k_12  \\\n",
       "0   Envision Academy for Arts & Technology              413            308   \n",
       "1  Community School for Creative Education              252            180   \n",
       "2                          Yu Ming Charter              387             53   \n",
       "3                 Urban Montessori Charter              448            127   \n",
       "4       Alameda County Juvenile Hall/Court               77             77   \n",
       "\n",
       "   perc_elg_frpm_k_12  \n",
       "0            0.745763  \n",
       "1            0.714286  \n",
       "2            0.136951  \n",
       "3            0.283482  \n",
       "4            1.000000  "
      ]
     },
     "execution_count": 39,
     "metadata": {},
     "output_type": "execute_result"
    }
   ],
   "source": [
    "df_raw.join(pub_schools, left_on='NCESDist', right_on='school_code', inplace=True)"
   ]
  },
  {
   "cell_type": "code",
   "execution_count": 53,
   "metadata": {},
   "outputs": [
    {
     "data": {
      "text/html": [
       "<div>\n",
       "<style>\n",
       "    .dataframe thead tr:only-child th {\n",
       "        text-align: right;\n",
       "    }\n",
       "\n",
       "    .dataframe thead th {\n",
       "        text-align: left;\n",
       "    }\n",
       "\n",
       "    .dataframe tbody tr th {\n",
       "        vertical-align: top;\n",
       "    }\n",
       "</style>\n",
       "<table border=\"1\" class=\"dataframe\">\n",
       "  <thead>\n",
       "    <tr style=\"text-align: right;\">\n",
       "      <th></th>\n",
       "      <th>District Code</th>\n",
       "      <th>School Code</th>\n",
       "      <th>District Name</th>\n",
       "      <th>School Name</th>\n",
       "      <th>Enrollment \n",
       "(K-12)</th>\n",
       "      <th>FRPM Count \n",
       "(K-12)</th>\n",
       "      <th>Percent (%) \n",
       "Eligible FRPM \n",
       "(K-12)</th>\n",
       "    </tr>\n",
       "  </thead>\n",
       "  <tbody>\n",
       "    <tr>\n",
       "      <th>0</th>\n",
       "      <td>10017</td>\n",
       "      <td>112607</td>\n",
       "      <td>Alameda County Office of Education</td>\n",
       "      <td>Envision Academy for Arts &amp; Technology</td>\n",
       "      <td>413</td>\n",
       "      <td>308</td>\n",
       "      <td>0.745763</td>\n",
       "    </tr>\n",
       "    <tr>\n",
       "      <th>1</th>\n",
       "      <td>10017</td>\n",
       "      <td>123968</td>\n",
       "      <td>Alameda County Office of Education</td>\n",
       "      <td>Community School for Creative Education</td>\n",
       "      <td>252</td>\n",
       "      <td>180</td>\n",
       "      <td>0.714286</td>\n",
       "    </tr>\n",
       "    <tr>\n",
       "      <th>2</th>\n",
       "      <td>10017</td>\n",
       "      <td>124172</td>\n",
       "      <td>Alameda County Office of Education</td>\n",
       "      <td>Yu Ming Charter</td>\n",
       "      <td>387</td>\n",
       "      <td>53</td>\n",
       "      <td>0.136951</td>\n",
       "    </tr>\n",
       "    <tr>\n",
       "      <th>3</th>\n",
       "      <td>10017</td>\n",
       "      <td>125567</td>\n",
       "      <td>Alameda County Office of Education</td>\n",
       "      <td>Urban Montessori Charter</td>\n",
       "      <td>448</td>\n",
       "      <td>127</td>\n",
       "      <td>0.283482</td>\n",
       "    </tr>\n",
       "    <tr>\n",
       "      <th>4</th>\n",
       "      <td>10017</td>\n",
       "      <td>130401</td>\n",
       "      <td>Alameda County Office of Education</td>\n",
       "      <td>Alameda County Juvenile Hall/Court</td>\n",
       "      <td>77</td>\n",
       "      <td>77</td>\n",
       "      <td>1.000000</td>\n",
       "    </tr>\n",
       "  </tbody>\n",
       "</table>\n",
       "</div>"
      ],
      "text/plain": [
       "   District Code  School Code                       District Name  \\\n",
       "0          10017       112607  Alameda County Office of Education   \n",
       "1          10017       123968  Alameda County Office of Education   \n",
       "2          10017       124172  Alameda County Office of Education   \n",
       "3          10017       125567  Alameda County Office of Education   \n",
       "4          10017       130401  Alameda County Office of Education   \n",
       "\n",
       "                               School Name  Enrollment \\n(K-12)  \\\n",
       "0   Envision Academy for Arts & Technology                  413   \n",
       "1  Community School for Creative Education                  252   \n",
       "2                          Yu Ming Charter                  387   \n",
       "3                 Urban Montessori Charter                  448   \n",
       "4       Alameda County Juvenile Hall/Court                   77   \n",
       "\n",
       "   FRPM Count \\n(K-12)  Percent (%) \\nEligible FRPM \\n(K-12)  \n",
       "0                  308                              0.745763  \n",
       "1                  180                              0.714286  \n",
       "2                   53                              0.136951  \n",
       "3                  127                              0.283482  \n",
       "4                   77                              1.000000  "
      ]
     },
     "execution_count": 53,
     "metadata": {},
     "output_type": "execute_result"
    }
   ],
   "source": [
    "df_raw.head()"
   ]
  },
  {
   "cell_type": "code",
   "execution_count": null,
   "metadata": {
    "collapsed": true
   },
   "outputs": [],
   "source": []
  },
  {
   "cell_type": "code",
   "execution_count": 46,
   "metadata": {
    "collapsed": true
   },
   "outputs": [],
   "source": [
    "def get_meal_savings(stud_cnt, perc_elg, meal_cost = 4.75):\n",
    "    if perc_elg > 1:\n",
    "        perc_elg = perc_elg/100.0\n",
    "\n",
    "    if perc_elg >= 0.625:\n",
    "        return (meal_cost*stud_cnt)\n",
    "    elif perc_elg >= 0.4:\n",
    "        perc_cost_elg = perc_elg*1.6\n",
    "        return (meal_cost*stud_cnt*perc_elg*perc_cost_elg)\n",
    "    else:\n",
    "        return 0"
   ]
  },
  {
   "cell_type": "code",
   "execution_count": 49,
   "metadata": {},
   "outputs": [
    {
     "data": {
      "text/plain": [
       "475.0"
      ]
     },
     "execution_count": 49,
     "metadata": {},
     "output_type": "execute_result"
    }
   ],
   "source": [
    "get_meal_savings(100, 70)"
   ]
  },
  {
   "cell_type": "code",
   "execution_count": 50,
   "metadata": {},
   "outputs": [
    {
     "data": {
      "text/plain": [
       "273.59999999999997"
      ]
     },
     "execution_count": 50,
     "metadata": {},
     "output_type": "execute_result"
    }
   ],
   "source": [
    "get_meal_savings(100, 60)"
   ]
  },
  {
   "cell_type": "code",
   "execution_count": 51,
   "metadata": {},
   "outputs": [
    {
     "data": {
      "text/plain": [
       "190.0"
      ]
     },
     "execution_count": 51,
     "metadata": {},
     "output_type": "execute_result"
    }
   ],
   "source": [
    "get_meal_savings(100, 50)"
   ]
  },
  {
   "cell_type": "code",
   "execution_count": 52,
   "metadata": {},
   "outputs": [
    {
     "data": {
      "text/plain": [
       "array([ 1961.75      ,  1197.        ,     0.        , ...,  1252.55191816,\n",
       "           0.        ,     0.        ])"
      ]
     },
     "execution_count": 52,
     "metadata": {},
     "output_type": "execute_result"
    }
   ],
   "source": []
  },
  {
   "cell_type": "code",
   "execution_count": null,
   "metadata": {
    "collapsed": true
   },
   "outputs": [],
   "source": []
  }
 ],
 "metadata": {
  "kernelspec": {
   "display_name": "Python [conda env:py36]",
   "language": "python",
   "name": "conda-env-py36-py"
  },
  "language_info": {
   "codemirror_mode": {
    "name": "ipython",
    "version": 3
   },
   "file_extension": ".py",
   "mimetype": "text/x-python",
   "name": "python",
   "nbconvert_exporter": "python",
   "pygments_lexer": "ipython3",
   "version": "3.6.2"
  }
 },
 "nbformat": 4,
 "nbformat_minor": 2
}
